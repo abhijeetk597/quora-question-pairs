{
 "cells": [
  {
   "cell_type": "code",
   "execution_count": 1,
   "id": "1a3543fa-0724-4f29-a19e-d8384d196e2b",
   "metadata": {},
   "outputs": [],
   "source": [
    "import numpy as np\n",
    "import pandas as pd\n",
    "import seaborn as sns\n",
    "import matplotlib.pyplot as plt"
   ]
  },
  {
   "cell_type": "code",
   "execution_count": 2,
   "id": "f01aaa67-0b28-414f-9b7b-145a0ff6b75d",
   "metadata": {},
   "outputs": [
    {
     "data": {
      "text/plain": [
       "(404290, 6)"
      ]
     },
     "execution_count": 2,
     "metadata": {},
     "output_type": "execute_result"
    }
   ],
   "source": [
    "df = pd.read_csv(\"data/train.csv\")\n",
    "df.shape"
   ]
  },
  {
   "cell_type": "markdown",
   "id": "9dd29281-8db4-486e-b80c-518c109288c8",
   "metadata": {},
   "source": [
    "## EDA"
   ]
  },
  {
   "cell_type": "code",
   "execution_count": 3,
   "id": "807c1c22-cc68-4daa-9746-055f76b3dad7",
   "metadata": {},
   "outputs": [
    {
     "data": {
      "text/html": [
       "<div>\n",
       "<style scoped>\n",
       "    .dataframe tbody tr th:only-of-type {\n",
       "        vertical-align: middle;\n",
       "    }\n",
       "\n",
       "    .dataframe tbody tr th {\n",
       "        vertical-align: top;\n",
       "    }\n",
       "\n",
       "    .dataframe thead th {\n",
       "        text-align: right;\n",
       "    }\n",
       "</style>\n",
       "<table border=\"1\" class=\"dataframe\">\n",
       "  <thead>\n",
       "    <tr style=\"text-align: right;\">\n",
       "      <th></th>\n",
       "      <th>id</th>\n",
       "      <th>qid1</th>\n",
       "      <th>qid2</th>\n",
       "      <th>question1</th>\n",
       "      <th>question2</th>\n",
       "      <th>is_duplicate</th>\n",
       "    </tr>\n",
       "  </thead>\n",
       "  <tbody>\n",
       "    <tr>\n",
       "      <th>297702</th>\n",
       "      <td>297702</td>\n",
       "      <td>182480</td>\n",
       "      <td>364654</td>\n",
       "      <td>What is it like to fly with Ryanair?</td>\n",
       "      <td>What is it like flying on Ryanair?</td>\n",
       "      <td>1</td>\n",
       "    </tr>\n",
       "    <tr>\n",
       "      <th>272400</th>\n",
       "      <td>272400</td>\n",
       "      <td>390655</td>\n",
       "      <td>333210</td>\n",
       "      <td>What is the best online web builder for free?</td>\n",
       "      <td>What is the best online website builder to cre...</td>\n",
       "      <td>1</td>\n",
       "    </tr>\n",
       "    <tr>\n",
       "      <th>166687</th>\n",
       "      <td>166687</td>\n",
       "      <td>258585</td>\n",
       "      <td>258586</td>\n",
       "      <td>Was George W. Bush a better presidential candi...</td>\n",
       "      <td>Is Donald Trump just a bigger George W. Bush?</td>\n",
       "      <td>0</td>\n",
       "    </tr>\n",
       "  </tbody>\n",
       "</table>\n",
       "</div>"
      ],
      "text/plain": [
       "            id    qid1    qid2  \\\n",
       "297702  297702  182480  364654   \n",
       "272400  272400  390655  333210   \n",
       "166687  166687  258585  258586   \n",
       "\n",
       "                                                question1  \\\n",
       "297702               What is it like to fly with Ryanair?   \n",
       "272400      What is the best online web builder for free?   \n",
       "166687  Was George W. Bush a better presidential candi...   \n",
       "\n",
       "                                                question2  is_duplicate  \n",
       "297702                 What is it like flying on Ryanair?             1  \n",
       "272400  What is the best online website builder to cre...             1  \n",
       "166687      Is Donald Trump just a bigger George W. Bush?             0  "
      ]
     },
     "execution_count": 3,
     "metadata": {},
     "output_type": "execute_result"
    }
   ],
   "source": [
    "df.sample(3)"
   ]
  },
  {
   "cell_type": "code",
   "execution_count": 16,
   "id": "5d91d3c1-4ac8-40c0-9418-87b5b6b1d96d",
   "metadata": {},
   "outputs": [
    {
     "name": "stdout",
     "output_type": "stream",
     "text": [
      "Question 1: \n",
      " What has been the most uncomfortable experience in your life?\n",
      "Question 2: \n",
      " What has been the most horrifying experience of your life?\n",
      "Duplicate ? -> No\n",
      "---------------------------\n",
      "Question 1: \n",
      " Why does this guy seem to be losing interest?\n",
      "Question 2: \n",
      " Why does a guy lose interest quickly?\n",
      "Duplicate ? -> No\n",
      "---------------------------\n",
      "Question 1: \n",
      " What did Dhoni step down as ODI and T20 captain so quietly?\n",
      "Question 2: \n",
      " Why did MS Dhoni step down from the captaincy of limited overs?\n",
      "Duplicate ? -> Yes\n",
      "---------------------------\n",
      "Question 1: \n",
      " Which are the best online courses on digital marketing in India?\n",
      "Question 2: \n",
      " Will digital marketing a good course to learn?\n",
      "Duplicate ? -> Yes\n",
      "---------------------------\n",
      "Question 1: \n",
      " What is a frequency?\n",
      "Question 2: \n",
      " What is frequency?\n",
      "Duplicate ? -> Yes\n",
      "---------------------------\n"
     ]
    }
   ],
   "source": [
    "# Check 5 random pairs\n",
    "import random\n",
    "random_idx = random.choices(df.index, k=5)\n",
    "for idx in random_idx:\n",
    "    print(f\"Question 1: \\n {df.question1.iloc[idx]}\")\n",
    "    print(f\"Question 2: \\n {df.question2.iloc[idx]}\")\n",
    "    print(f\"Duplicate ? -> {'Yes' if df.is_duplicate.iloc[idx] == 1 else 'No'}\")\n",
    "    print(\"---------------------------\")"
   ]
  },
  {
   "cell_type": "code",
   "execution_count": 17,
   "id": "d5a065f9-8e18-417e-86ba-9d13aa0a5274",
   "metadata": {},
   "outputs": [
    {
     "name": "stdout",
     "output_type": "stream",
     "text": [
      "<class 'pandas.core.frame.DataFrame'>\n",
      "RangeIndex: 404290 entries, 0 to 404289\n",
      "Data columns (total 6 columns):\n",
      " #   Column        Non-Null Count   Dtype \n",
      "---  ------        --------------   ----- \n",
      " 0   id            404290 non-null  int64 \n",
      " 1   qid1          404290 non-null  int64 \n",
      " 2   qid2          404290 non-null  int64 \n",
      " 3   question1     404289 non-null  object\n",
      " 4   question2     404288 non-null  object\n",
      " 5   is_duplicate  404290 non-null  int64 \n",
      "dtypes: int64(4), object(2)\n",
      "memory usage: 18.5+ MB\n"
     ]
    }
   ],
   "source": [
    "# dataframe info\n",
    "df.info()"
   ]
  },
  {
   "cell_type": "code",
   "execution_count": 22,
   "id": "79d707f3-6dd8-40bd-9dec-9e5e92404538",
   "metadata": {},
   "outputs": [
    {
     "data": {
      "text/plain": [
       "id              0\n",
       "qid1            0\n",
       "qid2            0\n",
       "question1       1\n",
       "question2       2\n",
       "is_duplicate    0\n",
       "dtype: int64"
      ]
     },
     "execution_count": 22,
     "metadata": {},
     "output_type": "execute_result"
    }
   ],
   "source": [
    "# missing value\n",
    "df.isnull().sum()"
   ]
  },
  {
   "cell_type": "code",
   "execution_count": 23,
   "id": "dbf8b255-0b09-4d21-9224-43403db67d3e",
   "metadata": {},
   "outputs": [
    {
     "data": {
      "text/plain": [
       "id              0\n",
       "qid1            0\n",
       "qid2            0\n",
       "question1       0\n",
       "question2       0\n",
       "is_duplicate    0\n",
       "dtype: int64"
      ]
     },
     "execution_count": 23,
     "metadata": {},
     "output_type": "execute_result"
    }
   ],
   "source": [
    "# drop rows with missing values\n",
    "df.dropna(inplace=True)\n",
    "df.isnull().sum()"
   ]
  },
  {
   "cell_type": "code",
   "execution_count": 24,
   "id": "3a495a09-514f-4af9-903d-81d176a2f89c",
   "metadata": {},
   "outputs": [
    {
     "data": {
      "text/plain": [
       "0"
      ]
     },
     "execution_count": 24,
     "metadata": {},
     "output_type": "execute_result"
    }
   ],
   "source": [
    "# duplicate rows\n",
    "df.duplicated().sum()"
   ]
  },
  {
   "cell_type": "code",
   "execution_count": 27,
   "id": "ef3b9206-0780-4468-9bff-4f3af359b4d6",
   "metadata": {},
   "outputs": [
    {
     "name": "stdout",
     "output_type": "stream",
     "text": [
      "0    255024\n",
      "1    149263\n",
      "Name: is_duplicate, dtype: int64\n",
      "Percentage\n",
      "0    63.079941\n",
      "1    36.920059\n",
      "Name: is_duplicate, dtype: float64\n"
     ]
    },
    {
     "data": {
      "text/plain": [
       "<Axes: >"
      ]
     },
     "execution_count": 27,
     "metadata": {},
     "output_type": "execute_result"
    },
    {
     "data": {
      "image/png": "[encoded data removed]",
      "text/plain": [
       "<Figure size 500x400 with 1 Axes>"
      ]
     },
     "metadata": {},
     "output_type": "display_data"
    }
   ],
   "source": [
    "# Distribution of duplicate and non-duplicate questions\n",
    "\n",
    "print(df[\"is_duplicate\"].value_counts())\n",
    "print(\"Percentage\")\n",
    "print((df[\"is_duplicate\"].value_counts()/df[\"is_duplicate\"].count())*100)\n",
    "plt.figure(figsize=(5,4))\n",
    "df[\"is_duplicate\"].value_counts().plot(kind=\"bar\")"
   ]
  },
  {
   "cell_type": "code",
   "execution_count": 30,
   "id": "1acfa020-8a16-466a-b9c7-3ac910f87038",
   "metadata": {},
   "outputs": [
    {
     "name": "stdout",
     "output_type": "stream",
     "text": [
      "Number of unique questions -> 537929\n",
      "Number of questions getting repeated -> 111778\n"
     ]
    }
   ],
   "source": [
    "# Repeated questions\n",
    "\n",
    "qid = pd.Series(df[\"qid1\"].tolist() + df[\"qid2\"].tolist())\n",
    "print(f\"Number of unique questions -> {qid.nunique()}\")\n",
    "x = qid.value_counts()>1\n",
    "print(f\"Number of questions getting repeated -> {x[x].shape[0]}\")"
   ]
  },
  {
   "cell_type": "code",
   "execution_count": 34,
   "id": "b7c7c277-ffc0-41ed-ae21-a4c3cf35d616",
   "metadata": {},
   "outputs": [
    {
     "data": {
      "image/png": "[encoded data removed]",
      "text/plain": [
       "<Figure size 640x480 with 1 Axes>"
      ]
     },
     "metadata": {},
     "output_type": "display_data"
    }
   ],
   "source": [
    "# Repeated questions histogram\n",
    "\n",
    "plt.hist(qid.value_counts(), bins=160)\n",
    "plt.yscale(\"log\")\n",
    "plt.show()"
   ]
  },
  {
   "cell_type": "markdown",
   "id": "c0955ed5-e335-44d2-bc0d-dbb3d8eb8970",
   "metadata": {},
   "source": [
    "## Creating Baseline model\n",
    "\n",
    "For baseline model we will use Bag-of-words and below 3 estimators.\n",
    "- Multinomial Naive Bayes\n",
    "- Random Forest\n",
    "- XGBoost\n",
    "\n",
    "> Due to memory issues, we will use 30000 sample rows from the dataset."
   ]
  },
  {
   "cell_type": "code",
   "execution_count": 50,
   "id": "2492a79e-94b2-4c57-807d-60318f9981db",
   "metadata": {},
   "outputs": [],
   "source": [
    "new_df = df.sample(30000)"
   ]
  },
  {
   "cell_type": "code",
   "execution_count": 51,
   "id": "80dc6220-9f08-42d3-aee3-31f34a524baf",
   "metadata": {},
   "outputs": [
    {
     "data": {
      "text/html": [
       "<div>\n",
       "<style scoped>\n",
       "    .dataframe tbody tr th:only-of-type {\n",
       "        vertical-align: middle;\n",
       "    }\n",
       "\n",
       "    .dataframe tbody tr th {\n",
       "        vertical-align: top;\n",
       "    }\n",
       "\n",
       "    .dataframe thead th {\n",
       "        text-align: right;\n",
       "    }\n",
       "</style>\n",
       "<table border=\"1\" class=\"dataframe\">\n",
       "  <thead>\n",
       "    <tr style=\"text-align: right;\">\n",
       "      <th></th>\n",
       "      <th>question1</th>\n",
       "      <th>question2</th>\n",
       "    </tr>\n",
       "  </thead>\n",
       "  <tbody>\n",
       "    <tr>\n",
       "      <th>33140</th>\n",
       "      <td>Why is Spotify nott available in India?</td>\n",
       "      <td>Daniel Ek: When an we expect Spotify in India?</td>\n",
       "    </tr>\n",
       "    <tr>\n",
       "      <th>350521</th>\n",
       "      <td>Have ever been in a long term interracial/inte...</td>\n",
       "      <td>Have you ever been in an interracial relations...</td>\n",
       "    </tr>\n",
       "    <tr>\n",
       "      <th>51280</th>\n",
       "      <td>I want to install a 3G tower in the Kutch, Guj...</td>\n",
       "      <td>How do you find cell phone number by name?</td>\n",
       "    </tr>\n",
       "    <tr>\n",
       "      <th>309939</th>\n",
       "      <td>How do our eyes perceive colors?</td>\n",
       "      <td>How do our eyes and brain process color?</td>\n",
       "    </tr>\n",
       "    <tr>\n",
       "      <th>289183</th>\n",
       "      <td>Why do sometimes we get double vision?</td>\n",
       "      <td>Why do I have double vision?</td>\n",
       "    </tr>\n",
       "  </tbody>\n",
       "</table>\n",
       "</div>"
      ],
      "text/plain": [
       "                                                question1  \\\n",
       "33140             Why is Spotify nott available in India?   \n",
       "350521  Have ever been in a long term interracial/inte...   \n",
       "51280   I want to install a 3G tower in the Kutch, Guj...   \n",
       "309939                   How do our eyes perceive colors?   \n",
       "289183             Why do sometimes we get double vision?   \n",
       "\n",
       "                                                question2  \n",
       "33140      Daniel Ek: When an we expect Spotify in India?  \n",
       "350521  Have you ever been in an interracial relations...  \n",
       "51280          How do you find cell phone number by name?  \n",
       "309939           How do our eyes and brain process color?  \n",
       "289183                       Why do I have double vision?  "
      ]
     },
     "execution_count": 51,
     "metadata": {},
     "output_type": "execute_result"
    }
   ],
   "source": [
    "ques_df = new_df[[\"question1\", \"question2\"]]\n",
    "ques_df.head()"
   ]
  },
  {
   "cell_type": "code",
   "execution_count": 52,
   "id": "ebab7c55-a77d-4e88-8fa5-46f80b4fe6d9",
   "metadata": {},
   "outputs": [],
   "source": [
    "from sklearn.feature_extraction.text import CountVectorizer\n",
    "# merge texts\n",
    "questions = list(ques_df[\"question1\"]) + list(ques_df[\"question2\"])\n",
    "\n",
    "cv = CountVectorizer(max_features=3000)\n",
    "q1_arr, q2_arr = np.vsplit(cv.fit_transform(questions).toarray(),2)"
   ]
  },
  {
   "cell_type": "code",
   "execution_count": 53,
   "id": "e41baac1-4e16-487f-8a46-4038c6ffbf15",
   "metadata": {},
   "outputs": [
    {
     "data": {
      "text/plain": [
       "(30000, 6000)"
      ]
     },
     "execution_count": 53,
     "metadata": {},
     "output_type": "execute_result"
    }
   ],
   "source": [
    "temp_df1 = pd.DataFrame(q1_arr, index=ques_df.index)\n",
    "temp_df2 = pd.DataFrame(q2_arr, index=ques_df.index)\n",
    "temp_df = pd.concat([temp_df1, temp_df2], axis=1)\n",
    "temp_df.shape"
   ]
  },
  {
   "cell_type": "code",
   "execution_count": 54,
   "id": "ebd5cdfd-4d6e-44cf-bca6-74d3089d424e",
   "metadata": {},
   "outputs": [
    {
     "data": {
      "text/html": [
       "<div>\n",
       "<style scoped>\n",
       "    .dataframe tbody tr th:only-of-type {\n",
       "        vertical-align: middle;\n",
       "    }\n",
       "\n",
       "    .dataframe tbody tr th {\n",
       "        vertical-align: top;\n",
       "    }\n",
       "\n",
       "    .dataframe thead th {\n",
       "        text-align: right;\n",
       "    }\n",
       "</style>\n",
       "<table border=\"1\" class=\"dataframe\">\n",
       "  <thead>\n",
       "    <tr style=\"text-align: right;\">\n",
       "      <th></th>\n",
       "      <th>0</th>\n",
       "      <th>1</th>\n",
       "      <th>2</th>\n",
       "      <th>3</th>\n",
       "      <th>4</th>\n",
       "      <th>5</th>\n",
       "      <th>6</th>\n",
       "      <th>7</th>\n",
       "      <th>8</th>\n",
       "      <th>9</th>\n",
       "      <th>...</th>\n",
       "      <th>2990</th>\n",
       "      <th>2991</th>\n",
       "      <th>2992</th>\n",
       "      <th>2993</th>\n",
       "      <th>2994</th>\n",
       "      <th>2995</th>\n",
       "      <th>2996</th>\n",
       "      <th>2997</th>\n",
       "      <th>2998</th>\n",
       "      <th>2999</th>\n",
       "    </tr>\n",
       "  </thead>\n",
       "  <tbody>\n",
       "    <tr>\n",
       "      <th>33140</th>\n",
       "      <td>0</td>\n",
       "      <td>0</td>\n",
       "      <td>0</td>\n",
       "      <td>0</td>\n",
       "      <td>0</td>\n",
       "      <td>0</td>\n",
       "      <td>0</td>\n",
       "      <td>0</td>\n",
       "      <td>0</td>\n",
       "      <td>0</td>\n",
       "      <td>...</td>\n",
       "      <td>0</td>\n",
       "      <td>0</td>\n",
       "      <td>0</td>\n",
       "      <td>0</td>\n",
       "      <td>0</td>\n",
       "      <td>0</td>\n",
       "      <td>0</td>\n",
       "      <td>0</td>\n",
       "      <td>0</td>\n",
       "      <td>0</td>\n",
       "    </tr>\n",
       "    <tr>\n",
       "      <th>350521</th>\n",
       "      <td>0</td>\n",
       "      <td>0</td>\n",
       "      <td>0</td>\n",
       "      <td>0</td>\n",
       "      <td>0</td>\n",
       "      <td>0</td>\n",
       "      <td>0</td>\n",
       "      <td>0</td>\n",
       "      <td>0</td>\n",
       "      <td>0</td>\n",
       "      <td>...</td>\n",
       "      <td>2</td>\n",
       "      <td>0</td>\n",
       "      <td>0</td>\n",
       "      <td>0</td>\n",
       "      <td>0</td>\n",
       "      <td>0</td>\n",
       "      <td>0</td>\n",
       "      <td>0</td>\n",
       "      <td>0</td>\n",
       "      <td>0</td>\n",
       "    </tr>\n",
       "    <tr>\n",
       "      <th>51280</th>\n",
       "      <td>0</td>\n",
       "      <td>0</td>\n",
       "      <td>0</td>\n",
       "      <td>0</td>\n",
       "      <td>0</td>\n",
       "      <td>0</td>\n",
       "      <td>0</td>\n",
       "      <td>0</td>\n",
       "      <td>0</td>\n",
       "      <td>0</td>\n",
       "      <td>...</td>\n",
       "      <td>1</td>\n",
       "      <td>0</td>\n",
       "      <td>0</td>\n",
       "      <td>0</td>\n",
       "      <td>0</td>\n",
       "      <td>0</td>\n",
       "      <td>0</td>\n",
       "      <td>0</td>\n",
       "      <td>0</td>\n",
       "      <td>0</td>\n",
       "    </tr>\n",
       "    <tr>\n",
       "      <th>309939</th>\n",
       "      <td>0</td>\n",
       "      <td>0</td>\n",
       "      <td>0</td>\n",
       "      <td>0</td>\n",
       "      <td>0</td>\n",
       "      <td>0</td>\n",
       "      <td>0</td>\n",
       "      <td>0</td>\n",
       "      <td>0</td>\n",
       "      <td>0</td>\n",
       "      <td>...</td>\n",
       "      <td>0</td>\n",
       "      <td>0</td>\n",
       "      <td>0</td>\n",
       "      <td>0</td>\n",
       "      <td>0</td>\n",
       "      <td>0</td>\n",
       "      <td>0</td>\n",
       "      <td>0</td>\n",
       "      <td>0</td>\n",
       "      <td>0</td>\n",
       "    </tr>\n",
       "    <tr>\n",
       "      <th>289183</th>\n",
       "      <td>0</td>\n",
       "      <td>0</td>\n",
       "      <td>0</td>\n",
       "      <td>0</td>\n",
       "      <td>0</td>\n",
       "      <td>0</td>\n",
       "      <td>0</td>\n",
       "      <td>0</td>\n",
       "      <td>0</td>\n",
       "      <td>0</td>\n",
       "      <td>...</td>\n",
       "      <td>0</td>\n",
       "      <td>0</td>\n",
       "      <td>0</td>\n",
       "      <td>0</td>\n",
       "      <td>0</td>\n",
       "      <td>0</td>\n",
       "      <td>0</td>\n",
       "      <td>0</td>\n",
       "      <td>0</td>\n",
       "      <td>0</td>\n",
       "    </tr>\n",
       "  </tbody>\n",
       "</table>\n",
       "<p>5 rows × 6000 columns</p>\n",
       "</div>"
      ],
      "text/plain": [
       "        0     1     2     3     4     5     6     7     8     9     ...  2990  \\\n",
       "33140      0     0     0     0     0     0     0     0     0     0  ...     0   \n",
       "350521     0     0     0     0     0     0     0     0     0     0  ...     2   \n",
       "51280      0     0     0     0     0     0     0     0     0     0  ...     1   \n",
       "309939     0     0     0     0     0     0     0     0     0     0  ...     0   \n",
       "289183     0     0     0     0     0     0     0     0     0     0  ...     0   \n",
       "\n",
       "        2991  2992  2993  2994  2995  2996  2997  2998  2999  \n",
       "33140      0     0     0     0     0     0     0     0     0  \n",
       "350521     0     0     0     0     0     0     0     0     0  \n",
       "51280      0     0     0     0     0     0     0     0     0  \n",
       "309939     0     0     0     0     0     0     0     0     0  \n",
       "289183     0     0     0     0     0     0     0     0     0  \n",
       "\n",
       "[5 rows x 6000 columns]"
      ]
     },
     "execution_count": 54,
     "metadata": {},
     "output_type": "execute_result"
    }
   ],
   "source": [
    "temp_df.head()"
   ]
  },
  {
   "cell_type": "code",
   "execution_count": 55,
   "id": "3e756a6f-c067-45b1-bcac-9df50c17f5bf",
   "metadata": {},
   "outputs": [],
   "source": [
    "from sklearn.model_selection import train_test_split\n",
    "X_train, X_test, y_train, y_test = train_test_split(temp_df.values, new_df[\"is_duplicate\"].values, test_size=0.2)"
   ]
  },
  {
   "cell_type": "code",
   "execution_count": 57,
   "id": "844b68d1-d7e9-4c08-97b5-6c074a169742",
   "metadata": {},
   "outputs": [
    {
     "data": {
      "text/plain": [
       "0.748"
      ]
     },
     "execution_count": 57,
     "metadata": {},
     "output_type": "execute_result"
    }
   ],
   "source": [
    "from sklearn.ensemble import RandomForestClassifier\n",
    "from sklearn.metrics import accuracy_score\n",
    "rf = RandomForestClassifier(n_jobs=-1)\n",
    "rf.fit(X_train, y_train)\n",
    "rf.score(X_test, y_test)"
   ]
  },
  {
   "cell_type": "code",
   "execution_count": 59,
   "id": "e3839c7c-2d1a-4868-9628-0edcf5661cf9",
   "metadata": {},
   "outputs": [
    {
     "data": {
      "text/plain": [
       "0.7335"
      ]
     },
     "execution_count": 59,
     "metadata": {},
     "output_type": "execute_result"
    }
   ],
   "source": [
    "from xgboost import XGBClassifier\n",
    "xgb = XGBClassifier(n_jobs=-1)\n",
    "xgb.fit(X_train, y_train)\n",
    "xgb.score(X_test, y_test)"
   ]
  },
  {
   "cell_type": "code",
   "execution_count": 62,
   "id": "45b1ba9d-e6f7-4c1d-9248-e9c63c916a38",
   "metadata": {},
   "outputs": [
    {
     "data": {
      "text/plain": [
       "0.7083333333333334"
      ]
     },
     "execution_count": 62,
     "metadata": {},
     "output_type": "execute_result"
    }
   ],
   "source": [
    "from sklearn.naive_bayes import MultinomialNB\n",
    "nb = MultinomialNB()\n",
    "nb.fit(X_train, y_train)\n",
    "nb.score(X_test, y_test)"
   ]
  },
  {
   "cell_type": "code",
   "execution_count": null,
   "id": "f7c12a47-740c-4456-89a0-45453a95ffda",
   "metadata": {},
   "outputs": [],
   "source": []
  }
 ],
 "metadata": {
  "kernelspec": {
   "display_name": "Python 3 (ipykernel)",
   "language": "python",
   "name": "python3"
  },
  "language_info": {
   "codemirror_mode": {
    "name": "ipython",
    "version": 3
   },
   "file_extension": ".py",
   "mimetype": "text/x-python",
   "name": "python",
   "nbconvert_exporter": "python",
   "pygments_lexer": "ipython3",
   "version": "3.11.5"
  }
 },
 "nbformat": 4,
 "nbformat_minor": 5
}
